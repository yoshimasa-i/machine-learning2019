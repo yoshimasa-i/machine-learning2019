{
 "cells": [
  {
   "cell_type": "markdown",
   "metadata": {},
   "source": [
    "# 人口が増えたトップ20を抜き出しグラフ化"
   ]
  },
  {
   "cell_type": "code",
   "execution_count": 1,
   "metadata": {},
   "outputs": [],
   "source": [
    "%matplotlib inline\n",
    "import pandas as pd"
   ]
  },
  {
   "cell_type": "markdown",
   "metadata": {},
   "source": [
    "### CSV読み込み"
   ]
  },
  {
   "cell_type": "code",
   "execution_count": 2,
   "metadata": {},
   "outputs": [],
   "source": [
    "df = pd.read_csv(\"population.csv\", encoding=\"SHIFT_JIS\")"
   ]
  },
  {
   "cell_type": "markdown",
   "metadata": {},
   "source": [
    "### 増減を調べて 変数 へ代入"
   ]
  },
  {
   "cell_type": "code",
   "execution_count": 3,
   "metadata": {},
   "outputs": [],
   "source": [
    "df[\"増減\"] = df[\"平成28年\"] - df[\"平成12年\"]"
   ]
  },
  {
   "cell_type": "markdown",
   "metadata": {},
   "source": [
    "### 増減の値をソートする"
   ]
  },
  {
   "cell_type": "code",
   "execution_count": 4,
   "metadata": {},
   "outputs": [],
   "source": [
    "df = df.sort_values(by=[\"増減\"], ascending=False)"
   ]
  },
  {
   "cell_type": "markdown",
   "metadata": {},
   "source": [
    "### ソートした増減からtop20を表示"
   ]
  },
  {
   "cell_type": "code",
   "execution_count": 5,
   "metadata": {},
   "outputs": [],
   "source": [
    "top = df[0:20]"
   ]
  },
  {
   "cell_type": "markdown",
   "metadata": {},
   "source": [
    "### トップ20のグラフ表示おわり"
   ]
  },
  {
   "cell_type": "code",
   "execution_count": 6,
   "metadata": {},
   "outputs": [
    {
     "data": {
      "text/html": [
       "<div>\n",
       "<style scoped>\n",
       "    .dataframe tbody tr th:only-of-type {\n",
       "        vertical-align: middle;\n",
       "    }\n",
       "\n",
       "    .dataframe tbody tr th {\n",
       "        vertical-align: top;\n",
       "    }\n",
       "\n",
       "    .dataframe thead th {\n",
       "        text-align: right;\n",
       "    }\n",
       "</style>\n",
       "<table border=\"1\" class=\"dataframe\">\n",
       "  <thead>\n",
       "    <tr style=\"text-align: right;\">\n",
       "      <th></th>\n",
       "      <th>都道府県</th>\n",
       "      <th>平成12年</th>\n",
       "      <th>平成17年</th>\n",
       "      <th>平成22年</th>\n",
       "      <th>平成27年</th>\n",
       "      <th>平成28年</th>\n",
       "      <th>増減</th>\n",
       "    </tr>\n",
       "  </thead>\n",
       "  <tbody>\n",
       "    <tr>\n",
       "      <th>0</th>\n",
       "      <td>東京都</td>\n",
       "      <td>12064</td>\n",
       "      <td>12577</td>\n",
       "      <td>13159</td>\n",
       "      <td>13515</td>\n",
       "      <td>13624</td>\n",
       "      <td>1560</td>\n",
       "    </tr>\n",
       "    <tr>\n",
       "      <th>1</th>\n",
       "      <td>神奈川県</td>\n",
       "      <td>8490</td>\n",
       "      <td>8792</td>\n",
       "      <td>9048</td>\n",
       "      <td>9126</td>\n",
       "      <td>9145</td>\n",
       "      <td>655</td>\n",
       "    </tr>\n",
       "    <tr>\n",
       "      <th>3</th>\n",
       "      <td>愛知県</td>\n",
       "      <td>7043</td>\n",
       "      <td>7255</td>\n",
       "      <td>7411</td>\n",
       "      <td>7483</td>\n",
       "      <td>7507</td>\n",
       "      <td>464</td>\n",
       "    </tr>\n",
       "    <tr>\n",
       "      <th>4</th>\n",
       "      <td>埼玉県</td>\n",
       "      <td>6938</td>\n",
       "      <td>7054</td>\n",
       "      <td>7195</td>\n",
       "      <td>7267</td>\n",
       "      <td>7289</td>\n",
       "      <td>351</td>\n",
       "    </tr>\n",
       "    <tr>\n",
       "      <th>5</th>\n",
       "      <td>千葉県</td>\n",
       "      <td>5926</td>\n",
       "      <td>6056</td>\n",
       "      <td>6216</td>\n",
       "      <td>6223</td>\n",
       "      <td>6236</td>\n",
       "      <td>310</td>\n",
       "    </tr>\n",
       "    <tr>\n",
       "      <th>24</th>\n",
       "      <td>沖縄県</td>\n",
       "      <td>1318</td>\n",
       "      <td>1362</td>\n",
       "      <td>1393</td>\n",
       "      <td>1434</td>\n",
       "      <td>1439</td>\n",
       "      <td>121</td>\n",
       "    </tr>\n",
       "    <tr>\n",
       "      <th>8</th>\n",
       "      <td>福岡県</td>\n",
       "      <td>5016</td>\n",
       "      <td>5050</td>\n",
       "      <td>5072</td>\n",
       "      <td>5102</td>\n",
       "      <td>5104</td>\n",
       "      <td>88</td>\n",
       "    </tr>\n",
       "    <tr>\n",
       "      <th>25</th>\n",
       "      <td>滋賀県</td>\n",
       "      <td>1343</td>\n",
       "      <td>1380</td>\n",
       "      <td>1411</td>\n",
       "      <td>1413</td>\n",
       "      <td>1413</td>\n",
       "      <td>70</td>\n",
       "    </tr>\n",
       "    <tr>\n",
       "      <th>2</th>\n",
       "      <td>大阪府</td>\n",
       "      <td>8805</td>\n",
       "      <td>8817</td>\n",
       "      <td>8865</td>\n",
       "      <td>8839</td>\n",
       "      <td>8833</td>\n",
       "      <td>28</td>\n",
       "    </tr>\n",
       "    <tr>\n",
       "      <th>33</th>\n",
       "      <td>石川県</td>\n",
       "      <td>1181</td>\n",
       "      <td>1174</td>\n",
       "      <td>1170</td>\n",
       "      <td>1154</td>\n",
       "      <td>1151</td>\n",
       "      <td>-30</td>\n",
       "    </tr>\n",
       "    <tr>\n",
       "      <th>6</th>\n",
       "      <td>兵庫県</td>\n",
       "      <td>5551</td>\n",
       "      <td>5591</td>\n",
       "      <td>5588</td>\n",
       "      <td>5535</td>\n",
       "      <td>5520</td>\n",
       "      <td>-31</td>\n",
       "    </tr>\n",
       "    <tr>\n",
       "      <th>13</th>\n",
       "      <td>宮城県</td>\n",
       "      <td>2365</td>\n",
       "      <td>2360</td>\n",
       "      <td>2348</td>\n",
       "      <td>2334</td>\n",
       "      <td>2330</td>\n",
       "      <td>-35</td>\n",
       "    </tr>\n",
       "    <tr>\n",
       "      <th>19</th>\n",
       "      <td>岡山県</td>\n",
       "      <td>1951</td>\n",
       "      <td>1957</td>\n",
       "      <td>1945</td>\n",
       "      <td>1922</td>\n",
       "      <td>1915</td>\n",
       "      <td>-36</td>\n",
       "    </tr>\n",
       "    <tr>\n",
       "      <th>18</th>\n",
       "      <td>栃木県</td>\n",
       "      <td>2005</td>\n",
       "      <td>2017</td>\n",
       "      <td>2008</td>\n",
       "      <td>1974</td>\n",
       "      <td>1966</td>\n",
       "      <td>-39</td>\n",
       "    </tr>\n",
       "    <tr>\n",
       "      <th>12</th>\n",
       "      <td>京都府</td>\n",
       "      <td>2644</td>\n",
       "      <td>2648</td>\n",
       "      <td>2636</td>\n",
       "      <td>2610</td>\n",
       "      <td>2605</td>\n",
       "      <td>-39</td>\n",
       "    </tr>\n",
       "    <tr>\n",
       "      <th>11</th>\n",
       "      <td>広島県</td>\n",
       "      <td>2879</td>\n",
       "      <td>2877</td>\n",
       "      <td>2861</td>\n",
       "      <td>2844</td>\n",
       "      <td>2837</td>\n",
       "      <td>-42</td>\n",
       "    </tr>\n",
       "    <tr>\n",
       "      <th>46</th>\n",
       "      <td>鳥取県</td>\n",
       "      <td>613</td>\n",
       "      <td>607</td>\n",
       "      <td>589</td>\n",
       "      <td>573</td>\n",
       "      <td>570</td>\n",
       "      <td>-43</td>\n",
       "    </tr>\n",
       "    <tr>\n",
       "      <th>42</th>\n",
       "      <td>福井県</td>\n",
       "      <td>829</td>\n",
       "      <td>822</td>\n",
       "      <td>806</td>\n",
       "      <td>787</td>\n",
       "      <td>782</td>\n",
       "      <td>-47</td>\n",
       "    </tr>\n",
       "    <tr>\n",
       "      <th>41</th>\n",
       "      <td>佐賀県</td>\n",
       "      <td>877</td>\n",
       "      <td>866</td>\n",
       "      <td>850</td>\n",
       "      <td>833</td>\n",
       "      <td>828</td>\n",
       "      <td>-49</td>\n",
       "    </tr>\n",
       "    <tr>\n",
       "      <th>21</th>\n",
       "      <td>三重県</td>\n",
       "      <td>1857</td>\n",
       "      <td>1867</td>\n",
       "      <td>1855</td>\n",
       "      <td>1816</td>\n",
       "      <td>1808</td>\n",
       "      <td>-49</td>\n",
       "    </tr>\n",
       "  </tbody>\n",
       "</table>\n",
       "</div>"
      ],
      "text/plain": [
       "    都道府県  平成12年  平成17年  平成22年  平成27年  平成28年    増減\n",
       "0    東京都  12064  12577  13159  13515  13624  1560\n",
       "1   神奈川県   8490   8792   9048   9126   9145   655\n",
       "3    愛知県   7043   7255   7411   7483   7507   464\n",
       "4    埼玉県   6938   7054   7195   7267   7289   351\n",
       "5    千葉県   5926   6056   6216   6223   6236   310\n",
       "24   沖縄県   1318   1362   1393   1434   1439   121\n",
       "8    福岡県   5016   5050   5072   5102   5104    88\n",
       "25   滋賀県   1343   1380   1411   1413   1413    70\n",
       "2    大阪府   8805   8817   8865   8839   8833    28\n",
       "33   石川県   1181   1174   1170   1154   1151   -30\n",
       "6    兵庫県   5551   5591   5588   5535   5520   -31\n",
       "13   宮城県   2365   2360   2348   2334   2330   -35\n",
       "19   岡山県   1951   1957   1945   1922   1915   -36\n",
       "18   栃木県   2005   2017   2008   1974   1966   -39\n",
       "12   京都府   2644   2648   2636   2610   2605   -39\n",
       "11   広島県   2879   2877   2861   2844   2837   -42\n",
       "46   鳥取県    613    607    589    573    570   -43\n",
       "42   福井県    829    822    806    787    782   -47\n",
       "41   佐賀県    877    866    850    833    828   -49\n",
       "21   三重県   1857   1867   1855   1816   1808   -49"
      ]
     },
     "execution_count": 6,
     "metadata": {},
     "output_type": "execute_result"
    },
    {
     "data": {
      "image/png": "[encoded data removed]",
      "text/plain": [
       "<Figure size 432x288 with 1 Axes>"
      ]
     },
     "metadata": {
      "needs_background": "light"
     },
     "output_type": "display_data"
    }
   ],
   "source": [
    "top.plot.bar(y=\"増減\",x=\"都道府県\")\n",
    "top"
   ]
  },
  {
   "cell_type": "code",
   "execution_count": null,
   "metadata": {},
   "outputs": [],
   "source": []
  }
 ],
 "metadata": {
  "kernelspec": {
   "display_name": "Python 3",
   "language": "python",
   "name": "python3"
  },
  "language_info": {
   "codemirror_mode": {
    "name": "ipython",
    "version": 3
   },
   "file_extension": ".py",
   "mimetype": "text/x-python",
   "name": "python",
   "nbconvert_exporter": "python",
   "pygments_lexer": "ipython3",
   "version": "3.6.5"
  }
 },
 "nbformat": 4,
 "nbformat_minor": 2
}
