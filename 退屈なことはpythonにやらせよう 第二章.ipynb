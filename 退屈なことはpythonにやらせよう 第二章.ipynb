{
 "cells": [
  {
   "cell_type": "markdown",
   "metadata": {},
   "source": [
    "## 比較演算子\n",
    "\n",
    "- == 等しい\n",
    "- != 等しくない\n",
    "- ＜ より小さい\n",
    "- ＞ より大きい\n",
    "- ＜= 以下\n",
    "- ＞= 以上"
   ]
  },
  {
   "cell_type": "code",
   "execution_count": 1,
   "metadata": {},
   "outputs": [
    {
     "data": {
      "text/plain": [
       "False"
      ]
     },
     "execution_count": 1,
     "metadata": {},
     "output_type": "execute_result"
    }
   ],
   "source": [
    "42 == 4"
   ]
  },
  {
   "cell_type": "code",
   "execution_count": 3,
   "metadata": {},
   "outputs": [
    {
     "data": {
      "text/plain": [
       "True"
      ]
     },
     "execution_count": 3,
     "metadata": {},
     "output_type": "execute_result"
    }
   ],
   "source": [
    "99 == 99"
   ]
  },
  {
   "cell_type": "code",
   "execution_count": 4,
   "metadata": {},
   "outputs": [
    {
     "data": {
      "text/plain": [
       "True"
      ]
     },
     "execution_count": 4,
     "metadata": {},
     "output_type": "execute_result"
    }
   ],
   "source": [
    "2 != 4"
   ]
  },
  {
   "cell_type": "code",
   "execution_count": 5,
   "metadata": {},
   "outputs": [
    {
     "data": {
      "text/plain": [
       "False"
      ]
     },
     "execution_count": 5,
     "metadata": {},
     "output_type": "execute_result"
    }
   ],
   "source": [
    "2 != 2"
   ]
  },
  {
   "cell_type": "code",
   "execution_count": 6,
   "metadata": {},
   "outputs": [
    {
     "data": {
      "text/plain": [
       "True"
      ]
     },
     "execution_count": 6,
     "metadata": {},
     "output_type": "execute_result"
    }
   ],
   "source": [
    "\"hello\" == 'hello'"
   ]
  },
  {
   "cell_type": "markdown",
   "metadata": {},
   "source": [
    "## コードのブロック"
   ]
  },
  {
   "cell_type": "code",
   "execution_count": 24,
   "metadata": {},
   "outputs": [
    {
     "name": "stdout",
     "output_type": "stream",
     "text": [
      "音色さん、こんにちわ。\n"
     ]
    }
   ],
   "source": [
    "name = '音色'\n",
    "\n",
    "if name == '音色' :\n",
    "# Pythonはインデントを入れないとエラーになる\n",
    "    print (name + 'さん、こんにちわ。')\n",
    "else:\n",
    "    print('ユーザー登録がありません。')"
   ]
  },
  {
   "cell_type": "code",
   "execution_count": 20,
   "metadata": {},
   "outputs": [
    {
     "name": "stdout",
     "output_type": "stream",
     "text": [
      "僕\n",
      "ユーザー登録がありません。\n"
     ]
    }
   ],
   "source": [
    "name = '音色'\n",
    "\n",
    "if name == input():\n",
    "    print (name + 'さん、こんにちわ。')\n",
    "else:\n",
    "    print('ユーザー登録がありません。')"
   ]
  },
  {
   "cell_type": "markdown",
   "metadata": {},
   "source": [
    "## elifについて"
   ]
  },
  {
   "cell_type": "code",
   "execution_count": 46,
   "metadata": {},
   "outputs": [
    {
     "name": "stdout",
     "output_type": "stream",
     "text": [
      "君は誰だ？！\n"
     ]
    }
   ],
   "source": [
    "name = '僕'\n",
    "age = 6\n",
    "\n",
    "if name == '音色' :\n",
    "    print('hello!!' + name)\n",
    "elif age <= 5 :\n",
    "    print(name + 'じゃないね。年齢が違う！')\n",
    "elif age >= 6 :\n",
    "    print('君は誰だ？！')"
   ]
  },
  {
   "cell_type": "markdown",
   "metadata": {},
   "source": [
    "## whileループ文"
   ]
  },
  {
   "cell_type": "code",
   "execution_count": 47,
   "metadata": {},
   "outputs": [
    {
     "name": "stdout",
     "output_type": "stream",
     "text": [
      "hello world.\n"
     ]
    }
   ],
   "source": [
    "spam = 0\n",
    "\n",
    "if spam < 5 :\n",
    "    print('hello world.')\n",
    "    spam = spam + 1"
   ]
  },
  {
   "cell_type": "code",
   "execution_count": 55,
   "metadata": {},
   "outputs": [
    {
     "name": "stdout",
     "output_type": "stream",
     "text": [
      "hello world.\n",
      "hello world.\n",
      "hello world.\n"
     ]
    }
   ],
   "source": [
    "spam = 2\n",
    "\n",
    "while spam < 5 :\n",
    "    print('hello world.')\n",
    "    spam = spam + 1"
   ]
  },
  {
   "cell_type": "markdown",
   "metadata": {},
   "source": [
    "## やっかいなwhileループ\n",
    "\n",
    "P42から続き"
   ]
  },
  {
   "cell_type": "code",
   "execution_count": 5,
   "metadata": {},
   "outputs": [
    {
     "name": "stdout",
     "output_type": "stream",
     "text": [
      "私の名前は\n",
      "石川五右衛門 (0)\n",
      "石川五右衛門 (1)\n",
      "石川五右衛門 (2)\n",
      "石川五右衛門 (3)\n",
      "石川五右衛門 (4)\n",
      "石川五右衛門 (5)\n",
      "石川五右衛門 (6)\n",
      "石川五右衛門 (7)\n",
      "石川五右衛門 (8)\n",
      "石川五右衛門 (9)\n"
     ]
    }
   ],
   "source": [
    "print('私の名前は')\n",
    "for i in range(10):\n",
    "    print('石川五右衛門 (' + str(i) + ')')"
   ]
  },
  {
   "cell_type": "code",
   "execution_count": 10,
   "metadata": {},
   "outputs": [
    {
     "name": "stdout",
     "output_type": "stream",
     "text": [
      "5050\n"
     ]
    }
   ],
   "source": [
    "total = 0\n",
    "for num in range(101):\n",
    "    total = total + num\n",
    "print(total)"
   ]
  },
  {
   "cell_type": "markdown",
   "metadata": {},
   "source": [
    "# 続き\n",
    "P54 モジュールをインストール"
   ]
  },
  {
   "cell_type": "code",
   "execution_count": null,
   "metadata": {},
   "outputs": [],
   "source": []
  }
 ],
 "metadata": {
  "kernelspec": {
   "display_name": "Python 3",
   "language": "python",
   "name": "python3"
  },
  "language_info": {
   "codemirror_mode": {
    "name": "ipython",
    "version": 3
   },
   "file_extension": ".py",
   "mimetype": "text/x-python",
   "name": "python",
   "nbconvert_exporter": "python",
   "pygments_lexer": "ipython3",
   "version": "3.6.5"
  }
 },
 "nbformat": 4,
 "nbformat_minor": 2
}
